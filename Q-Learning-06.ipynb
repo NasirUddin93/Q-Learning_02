{
 "cells": [
  {
   "cell_type": "code",
   "execution_count": 15,
   "id": "95ecc2b2-17b3-46f1-a2be-79fd907f7f88",
   "metadata": {},
   "outputs": [],
   "source": [
    "import numpy as np"
   ]
  },
  {
   "cell_type": "code",
   "execution_count": 16,
   "id": "ee106396-f30f-4acb-bcb5-01e3eb4802ab",
   "metadata": {},
   "outputs": [],
   "source": [
    "#Define the states\n",
    "location_to_state = {\n",
    "    'L1' : 0,\n",
    "    'L2' : 1,\n",
    "    'L3' : 2,\n",
    "    'L4' : 3,\n",
    "    'L5' : 4,\n",
    "    'L6' : 5,\n",
    "    'L7' : 6,\n",
    "    'L8' : 7,\n",
    "    'L9' : 8\n",
    "}"
   ]
  },
  {
   "cell_type": "code",
   "execution_count": 17,
   "id": "d125407b-1a1a-49a1-87ce-0d9933adf5c8",
   "metadata": {},
   "outputs": [],
   "source": [
    "#Define the actions\n",
    "actions = [0,1,2,3,4,5,6,7,8]"
   ]
  },
  {
   "cell_type": "code",
   "execution_count": 18,
   "id": "98a84b9f-9a99-4f92-9b4c-c41bdb565ef2",
   "metadata": {},
   "outputs": [],
   "source": [
    "#Define the rewards\n",
    "rewards = np.array([[0,1,0,0,0,0,0,0,0],\n",
    "                [1,0,1,0,1,0,0,0,0],\n",
    "                [0,1,0,0,0,1,0,0,0],\n",
    "                [0,0,0,0,0,0,1,0,0],\n",
    "                [0,1,0,0,0,0,0,1,0],\n",
    "                [0,0,1,0,0,0,0,0,0],\n",
    "                [0,0,0,1,0,0,0,1,0],\n",
    "                [0,0,0,0,1,0,1,0,1], \n",
    "                [0,0,0,0,0,0,0,1,0]])"
   ]
  },
  {
   "cell_type": "code",
   "execution_count": 19,
   "id": "8f7c3fb4-ede7-4f91-9811-8a4ea04b1824",
   "metadata": {},
   "outputs": [],
   "source": [
    "state_to_location = dict((state,location) for location, state in location_to_state.items())\n",
    "#Initialize parameters \n",
    "gamma = 0.75 # Discount factor\n",
    "alpha = 0.9 # Learning rate"
   ]
  },
  {
   "cell_type": "code",
   "execution_count": 33,
   "id": "4dad5ade-4e2a-46c2-a668-dfcb1559fd90",
   "metadata": {},
   "outputs": [],
   "source": [
    "class QAgent():\n",
    "    #Initialize alpha, gamma, states, actions, rewards, and Q-values\n",
    "    def __init__(self,alpha,gamma, location_to_state,actions, rewards, state_to_location):\n",
    "        self.gamma = gamma\n",
    "        self.alpha = alpha\n",
    "        self.location_to_state = location_to_state\n",
    "        self.actions = actions\n",
    "        self.rewards = rewards\n",
    "        self.state_to_location = state_to_location\n",
    "        M = len(location_to_state)\n",
    "        self.Q = np.zeros((M,M),dtype = None, order='C')\n",
    "\n",
    "\n",
    "\n",
    "#Training the robot the environment\n",
    "    def training(self,start_location, end_location,iterations):\n",
    "        rewards_new = np.copy(self.rewards)\n",
    "        ending_state = self.location_to_state[end_location]\n",
    "        rewards_new[ending_state,ending_state] = 999\n",
    "\n",
    "        #picking a random current state\n",
    "        for i in range(iterations):\n",
    "            current_state = np.random.randint(0,9)\n",
    "            playable_actions = []\n",
    "            #iterate through the rewards matrix to get the state\n",
    "            #directly reachable from the randomly choosen current state\n",
    "            #assign those state in a list named playable_action\n",
    "            for j in range(9):\n",
    "                if rewards_new[current_state,j] > 0:\n",
    "                    playable_actions.append(j)\n",
    "\n",
    "             #choosing a random next state\n",
    "            next_state = np.random.choice(playable_actions)\n",
    "\n",
    "\n",
    "            #finding temporal difference\n",
    "            TD = rewards_new[current_state,next_state] + self.gamma * self.Q[next_state,np.argmax(self.Q[next_state,])] - self.Q[current_state,next_state]\n",
    "            self.Q[current_state,next_state] +=self.alpha * TD\n",
    "        route = [start_location]\n",
    "        next_location = start_location\n",
    "\n",
    "#Get the route\n",
    "        self.get_optimal_route(start_location,end_location,next_location,route,self.Q)\n",
    "        \n",
    "       #Get the optimal route \n",
    "    def get_optimal_route(self,start_location,end_location,next_location,route,Q):\n",
    "        while(next_location != end_location):\n",
    "            starting_state = self.location_to_state[start_location]\n",
    "            next_state = np.argmax(Q[starting_state,])\n",
    "            next_location = self.state_to_location[next_state]\n",
    "            route.append(next_location)\n",
    "            start_location = next_location\n",
    "        print(route)     \n",
    "        "
   ]
  },
  {
   "cell_type": "code",
   "execution_count": 34,
   "id": "75d7dfe5-d157-4b19-915e-d5f2f93c80f6",
   "metadata": {},
   "outputs": [
    {
     "name": "stdout",
     "output_type": "stream",
     "text": [
      "['L9', 'L8', 'L5', 'L2', 'L1']\n"
     ]
    }
   ],
   "source": [
    "qagent = QAgent(alpha,gamma,location_to_state,actions,rewards,state_to_location)\n",
    "qagent.training('L9','L1',1000)"
   ]
  },
  {
   "cell_type": "code",
   "execution_count": null,
   "id": "07f33eda-7885-4834-bc7f-ac1ece8a99a5",
   "metadata": {},
   "outputs": [],
   "source": []
  }
 ],
 "metadata": {
  "kernelspec": {
   "display_name": "Python 3 (ipykernel)",
   "language": "python",
   "name": "python3"
  },
  "language_info": {
   "codemirror_mode": {
    "name": "ipython",
    "version": 3
   },
   "file_extension": ".py",
   "mimetype": "text/x-python",
   "name": "python",
   "nbconvert_exporter": "python",
   "pygments_lexer": "ipython3",
   "version": "3.11.7"
  }
 },
 "nbformat": 4,
 "nbformat_minor": 5
}
